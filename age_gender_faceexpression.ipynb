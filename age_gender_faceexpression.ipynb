{
 "cells": [
  {
   "cell_type": "code",
   "execution_count": 1,
   "metadata": {},
   "outputs": [],
   "source": [
    "from tensorflow.keras.models import load_model\n",
    "from tensorflow.keras.preprocessing.image import load_img\n",
    "import numpy as np\n",
    "import matplotlib.pyplot as plt"
   ]
  },
  {
   "cell_type": "code",
   "execution_count": 2,
   "metadata": {},
   "outputs": [],
   "source": [
    "model_age_gender = load_model('age_and_gender_model.h5')\n",
    "model_expression = load_model('emotion_detection_model_50epochs.h5')"
   ]
  },
  {
   "cell_type": "code",
   "execution_count": 3,
   "metadata": {},
   "outputs": [],
   "source": [
    "gender_dict = {0:'Male', 1:'Female'}\n",
    "emotions = ['anger','disgust','fear','happiness','sadness','surprise','neutral']"
   ]
  },
  {
   "cell_type": "code",
   "execution_count": 4,
   "metadata": {},
   "outputs": [],
   "source": [
    "def for_age_gender(img):\n",
    "    image = load_img(img,color_mode='grayscale')\n",
    "    image = np.resize(image,(128,128))\n",
    "    image = np.array(image)/255\n",
    "    image = image.reshape(1,128,128,1)\n",
    "    return image\n",
    "\n",
    "def for_facial_expression(img):\n",
    "    image = load_img(img,color_mode='grayscale')\n",
    "    image = np.resize(image,(48,48))\n",
    "    image = np.array(image)/255\n",
    "    image = image.reshape(1,48,48,1)\n",
    "    plt.imshow(image.reshape(48,48,1))\n",
    "    plt.axis('off')\n",
    "    return image\n",
    "\n",
    "def predict_age_gender(image):\n",
    "    predict = model_age_gender.predict(image)\n",
    "    pr_gn = gender_dict[round(predict[0][0][0])]\n",
    "    pr_ag = round(predict[1][0][0])\n",
    "    print('gender:',pr_gn, ' age:',pr_ag)\n",
    "\n",
    "def predict_face_expression(image):\n",
    "    predict = model_expression.predict(image)\n",
    "    ar = predict\n",
    "    print('emotion:',emotions[ar[0].argmax()])\n",
    "\n"
   ]
  },
  {
   "cell_type": "code",
   "execution_count": 5,
   "metadata": {},
   "outputs": [
    {
     "name": "stdout",
     "output_type": "stream",
     "text": [
      "1/1 [==============================] - 6s 6s/step\n",
      "gender: Male  age: 44\n",
      "1/1 [==============================] - 1s 716ms/step\n",
      "emotion: anger\n"
     ]
    },
    {
     "data": {
      "image/png": "[encoded data removed]",
      "text/plain": [
       "<Figure size 640x480 with 1 Axes>"
      ]
     },
     "metadata": {},
     "output_type": "display_data"
    }
   ],
   "source": [
    "image_path = 'images/PrivateTest_33951605.jpg'\n",
    "image = for_age_gender(image_path)\n",
    "predict = predict_age_gender(image)\n",
    "\n",
    "face_image = for_facial_expression(image_path)\n",
    "predict_face = predict_face_expression(face_image)"
   ]
  },
  {
   "cell_type": "code",
   "execution_count": null,
   "metadata": {},
   "outputs": [],
   "source": []
  }
 ],
 "metadata": {
  "kernelspec": {
   "display_name": "env-dl",
   "language": "python",
   "name": "python3"
  },
  "language_info": {
   "codemirror_mode": {
    "name": "ipython",
    "version": 3
   },
   "file_extension": ".py",
   "mimetype": "text/x-python",
   "name": "python",
   "nbconvert_exporter": "python",
   "pygments_lexer": "ipython3",
   "version": "3.10.0"
  },
  "orig_nbformat": 4
 },
 "nbformat": 4,
 "nbformat_minor": 2
}
